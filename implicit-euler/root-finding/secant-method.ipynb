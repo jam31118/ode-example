{
 "cells": [
  {
   "cell_type": "code",
   "execution_count": 1,
   "metadata": {},
   "outputs": [],
   "source": [
    "import numpy as np"
   ]
  },
  {
   "cell_type": "code",
   "execution_count": 2,
   "metadata": {},
   "outputs": [],
   "source": [
    "k = -15\n",
    "g_args = (k,)\n",
    "\n",
    "def g(y, k): \n",
    "    return np.exp(k*y) - 0.5"
   ]
  },
  {
   "cell_type": "code",
   "execution_count": 3,
   "metadata": {},
   "outputs": [],
   "source": [
    "delta_y = 0.0001\n",
    "y0 = 0.0\n",
    "y1 = y0 + delta_y\n",
    "thres = 1e-10\n",
    "\n",
    "# dg0 = -15*np.exp(-15*y0)\n",
    "\n",
    "\n",
    "# if g(y0) > 0:\n",
    "#     y1 = y0 + (-dg0)*delta_y\n",
    "# else:\n",
    "#     y1 = y0 + (dg0)*delta_y\n",
    "\n",
    "# assert (g(y0) * g(y1)) > 0\n",
    "# y1 = y0 + delta_y * (-15*np.exp(-15*y0))"
   ]
  },
  {
   "cell_type": "code",
   "execution_count": 4,
   "metadata": {},
   "outputs": [],
   "source": [
    "def fzero_secant(y0, y1, g, thres, g_args=()):\n",
    "#     _y_list = [y0, y1]\n",
    "#     _y_err = _y_list[-1] - _y_list[-2]\n",
    "    y_i_1, y_i_2 = y1, y0 # _y_list[-1], _y_list[-2]\n",
    "    g_y_i_1, g_y_i_2 = g(y_i_1, *g_args), g(y_i_2, *g_args)\n",
    "    while g_y_i_1 > thres:\n",
    "        print(\"y_i_2: {} / y_i_1: {}\".format(y_i_2,y_i_1))\n",
    "#         g_y_i_2, g_y_i_1 = g(y_i_2, *g_args), g(y_i_1, *g_args)\n",
    "        print(\"g_y_i_2: {} / g_y_i_1: {}\".format(g_y_i_2, g_y_i_1))\n",
    "        y_i = (y_i_2 * g_y_i_1 - y_i_1 * g_y_i_2) / (g_y_i_1 - g_y_i_2)\n",
    "#         _y_list.append(y_i)\n",
    "#         _y_err = _y_list[-1] - _y_list[-2]\n",
    "        y_i_2 = y_i_1\n",
    "        y_i_1 = y_i\n",
    "        g_y_i_2 = g_y_i_1\n",
    "        g_y_i_1 = g(y_i, *g_args)\n",
    "#         if g_y_i_1 < thres: break\n",
    "        \n",
    "    return y_i_1"
   ]
  },
  {
   "cell_type": "code",
   "execution_count": 5,
   "metadata": {},
   "outputs": [
    {
     "name": "stdout",
     "output_type": "stream",
     "text": [
      "y_i_2: 0.0 / y_i_1: 0.0001\n",
      "g_y_i_2: 0.5 / g_y_i_1: 0.4985011244377109\n",
      "y_i_2: 0.0001 / y_i_1: 0.03335833958333335\n",
      "g_y_i_2: 0.4985011244377109 / g_y_i_1: 0.10630319651567044\n",
      "y_i_2: 0.03335833958333335 / y_i_1: 0.04237283853095337\n",
      "g_y_i_2: 0.10630319651567044 / g_y_i_1: 0.029621553249378985\n",
      "y_i_2: 0.04237283853095337 / y_i_1: 0.045855072990458996\n",
      "g_y_i_2: 0.029621553249378985 / g_y_i_1: 0.002667633911595413\n",
      "y_i_2: 0.045855072990458996 / y_i_1: 0.046199710318184525\n",
      "g_y_i_2: 0.002667633911595413 / g_y_i_1: 7.576863389469057e-05\n",
      "y_i_2: 0.046199710318184525 / y_i_1: 0.04620978518578491\n",
      "g_y_i_2: 7.576863389469057e-05 / g_y_i_1: 2.0138662637503302e-07\n"
     ]
    }
   ],
   "source": [
    "y_at_zero = fzero_secant(y0, y1, g, thres, g_args)"
   ]
  },
  {
   "cell_type": "code",
   "execution_count": 6,
   "metadata": {},
   "outputs": [
    {
     "data": {
      "text/plain": [
       "1.5257239915911214e-11"
      ]
     },
     "execution_count": 6,
     "metadata": {},
     "output_type": "execute_result"
    }
   ],
   "source": [
    "g(y_at_zero, *g_args)"
   ]
  },
  {
   "cell_type": "code",
   "execution_count": 7,
   "metadata": {},
   "outputs": [],
   "source": [
    "def dydt(t, y):\n",
    "    return -15*y"
   ]
  },
  {
   "cell_type": "code",
   "execution_count": 8,
   "metadata": {},
   "outputs": [],
   "source": [
    "def gg(y_next, y_n, h, dydt, t):\n",
    "    return y_next - y_n - h * dydt(t+h,y_next)"
   ]
  },
  {
   "cell_type": "code",
   "execution_count": 9,
   "metadata": {},
   "outputs": [],
   "source": [
    "y_0 = 1.0\n",
    "t_0 = 0.0\n",
    "h = 0.01"
   ]
  },
  {
   "cell_type": "code",
   "execution_count": 10,
   "metadata": {},
   "outputs": [],
   "source": [
    "N_t = 10\n",
    "y_arr = np.empty((N_t,), dtype=float)\n",
    "t_arr = t_0 + np.arange(N_t) * h"
   ]
  },
  {
   "cell_type": "code",
   "execution_count": 11,
   "metadata": {},
   "outputs": [
    {
     "name": "stdout",
     "output_type": "stream",
     "text": [
      "y_i_2: 1.0 / y_i_1: 1.0001\n",
      "g_y_i_2: 0.15 / g_y_i_1: 0.150115\n",
      "y_i_2: 0.8695652173914198 / y_i_1: 0.8696652173914198\n",
      "g_y_i_2: 0.13043478260871297 / g_y_i_1: 0.13054978260871294\n",
      "y_i_2: 0.7561436672968804 / y_i_1: 0.7562436672968804\n",
      "g_y_i_2: 0.11342155009453206 / g_y_i_1: 0.11353655009453205\n",
      "y_i_2: 0.6575162324321427 / y_i_1: 0.6576162324321427\n",
      "g_y_i_2: 0.09862743486482142 / g_y_i_1: 0.09874243486482141\n",
      "y_i_2: 0.5717532455931781 / y_i_1: 0.5718532455931781\n",
      "g_y_i_2: 0.0857629868389767 / g_y_i_1: 0.0858779868389767\n",
      "y_i_2: 0.49717673529838685 / y_i_1: 0.49727673529838684\n",
      "g_y_i_2: 0.07457651029475802 / g_y_i_1: 0.07469151029475801\n",
      "y_i_2: 0.4323275959116355 / y_i_1: 0.4324275959116355\n",
      "g_y_i_2: 0.06484913938674533 / g_y_i_1: 0.06496413938674532\n",
      "y_i_2: 0.37593703992317573 / y_i_1: 0.3760370399231757\n",
      "g_y_i_2: 0.056390555988476365 / g_y_i_1: 0.05650555598847634\n",
      "y_i_2: 0.3269017738462228 / y_i_1: 0.3270017738462228\n",
      "g_y_i_2: 0.049035266076933426 / g_y_i_1: 0.04915026607693341\n"
     ]
    }
   ],
   "source": [
    "delta_y = 0.0001  # may vary from the magnitude of v or small rho\n",
    "\n",
    "y_arr[0] = y_0\n",
    "for t_idx in range(N_t-1):\n",
    "    y_n0 = y_arr[t_idx]\n",
    "    gg_args = (y_n0, h, dydt, t_arr[t_idx])\n",
    "    y_arr[t_idx+1] = fzero_secant(y_n0, y_n0+delta_y, gg, thres, gg_args)"
   ]
  },
  {
   "cell_type": "code",
   "execution_count": 12,
   "metadata": {},
   "outputs": [],
   "source": [
    "import matplotlib.pyplot as plt"
   ]
  },
  {
   "cell_type": "code",
   "execution_count": 13,
   "metadata": {},
   "outputs": [
    {
     "data": {
      "text/plain": [
       "[<matplotlib.lines.Line2D at 0x7fddff389b00>]"
      ]
     },
     "execution_count": 13,
     "metadata": {},
     "output_type": "execute_result"
    },
    {
     "data": {
      "image/png": "[encoded data removed]",
      "text/plain": [
       "<Figure size 432x288 with 1 Axes>"
      ]
     },
     "metadata": {},
     "output_type": "display_data"
    }
   ],
   "source": [
    "fig, ax = plt.subplots()\n",
    "ax.plot(t_arr, y_arr)\n",
    "ax.plot(t_arr, np.exp(-15*t_arr))"
   ]
  }
 ],
 "metadata": {
  "kernelspec": {
   "display_name": "Python 3",
   "language": "python",
   "name": "python3"
  },
  "language_info": {
   "codemirror_mode": {
    "name": "ipython",
    "version": 3
   },
   "file_extension": ".py",
   "mimetype": "text/x-python",
   "name": "python",
   "nbconvert_exporter": "python",
   "pygments_lexer": "ipython3",
   "version": "3.6.0"
  }
 },
 "nbformat": 4,
 "nbformat_minor": 2
}
