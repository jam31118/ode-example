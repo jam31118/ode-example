{
 "cells": [
  {
   "cell_type": "code",
   "execution_count": 1,
   "metadata": {},
   "outputs": [],
   "source": [
    "import numpy as np"
   ]
  },
  {
   "cell_type": "markdown",
   "metadata": {},
   "source": [
    "# Implementation of secant method"
   ]
  },
  {
   "cell_type": "code",
   "execution_count": 2,
   "metadata": {},
   "outputs": [],
   "source": [
    "k = -15\n",
    "g_args = (k,)\n",
    "\n",
    "def g(y, k): \n",
    "    return np.exp(k*y) - 0.5"
   ]
  },
  {
   "cell_type": "code",
   "execution_count": 3,
   "metadata": {},
   "outputs": [],
   "source": [
    "delta_y = 0.0001\n",
    "y0 = 0.0\n",
    "y1 = y0 + delta_y\n",
    "thres = 1e-10"
   ]
  },
  {
   "cell_type": "code",
   "execution_count": 4,
   "metadata": {},
   "outputs": [],
   "source": [
    "def fzero_secant(y0, y1, g, thres, g_args=()):\n",
    "    \n",
    "    y_i_1, y_i_2 = y1, y0\n",
    "    g_y_i_1, g_y_i_2 = g(y_i_1, *g_args), g(y_i_2, *g_args)\n",
    "    \n",
    "    while g_y_i_1 > thres:\n",
    "        \n",
    "        y_i = (y_i_2 * g_y_i_1 - y_i_1 * g_y_i_2) / (g_y_i_1 - g_y_i_2)\n",
    "        \n",
    "        y_i_2 = y_i_1\n",
    "        y_i_1 = y_i\n",
    "        g_y_i_2 = g_y_i_1\n",
    "        g_y_i_1 = g(y_i, *g_args)\n",
    "        \n",
    "    return y_i_1"
   ]
  },
  {
   "cell_type": "code",
   "execution_count": 5,
   "metadata": {},
   "outputs": [
    {
     "name": "stdout",
     "output_type": "stream",
     "text": [
      "func_value_is_almost_zero: True\n"
     ]
    }
   ],
   "source": [
    "y_at_zero = fzero_secant(y0, y1, g, thres, g_args)\n",
    "\n",
    "func_value_near_root = g(y_at_zero, *g_args)\n",
    "func_value_is_almost_zero = func_value_near_root < thres\n",
    "print(\"func_value_is_almost_zero: {}\".format(func_value_is_almost_zero))"
   ]
  },
  {
   "cell_type": "markdown",
   "metadata": {},
   "source": [
    "# Implementation of implicit Euler using secant method"
   ]
  },
  {
   "cell_type": "markdown",
   "metadata": {},
   "source": [
    "## Define function"
   ]
  },
  {
   "cell_type": "code",
   "execution_count": 6,
   "metadata": {},
   "outputs": [],
   "source": [
    "def dydt(t, y):\n",
    "    return -15*y\n",
    "\n",
    "def gg(y_next, y_n, h, dydt, t):\n",
    "    return y_next - y_n - h * dydt(t+h,y_next)\n",
    "\n",
    "def prop_a_step(y_n0, t, h, dydt, delta_y, gg, thres):\n",
    "    \"\"\"`gg_args` : may be implemented as struct in C++ along with the usage of template function\"\"\"\n",
    "    gg_args = (y_n0, h, dydt, t)\n",
    "    y_n1 = fzero_secant(y_n0, y_n0+delta_y, gg, thres, gg_args)\n",
    "    return y_n1"
   ]
  },
  {
   "cell_type": "markdown",
   "metadata": {},
   "source": [
    "## Configuration"
   ]
  },
  {
   "cell_type": "code",
   "execution_count": 7,
   "metadata": {},
   "outputs": [],
   "source": [
    "y_0 = 1.0\n",
    "t_0 = 0.0\n",
    "h = 0.01\n",
    "N_t = 10\n",
    "delta_y = 0.0001  # may vary from the magnitude of v or small rho\n",
    "thres = 1e-12"
   ]
  },
  {
   "cell_type": "code",
   "execution_count": 8,
   "metadata": {},
   "outputs": [],
   "source": [
    "y_arr = np.empty((N_t,), dtype=float)\n",
    "t_arr = t_0 + np.arange(N_t) * h"
   ]
  },
  {
   "cell_type": "code",
   "execution_count": 9,
   "metadata": {},
   "outputs": [],
   "source": [
    "y_arr[0] = y_0\n",
    "for t_idx in range(N_t-1):\n",
    "    _t = t_arr[t_idx]\n",
    "    _delta_t = t_arr[t_idx+1] - _t\n",
    "    y_arr[t_idx+1] = prop_a_step(y_arr[t_idx], _t, _delta_t, dydt, delta_y, gg, thres)"
   ]
  },
  {
   "cell_type": "markdown",
   "metadata": {},
   "source": [
    "## Plot"
   ]
  },
  {
   "cell_type": "code",
   "execution_count": 10,
   "metadata": {},
   "outputs": [],
   "source": [
    "import matplotlib.pyplot as plt\n",
    "from matplotlib import rcParams\n",
    "rcParams['font.size'] = 15"
   ]
  },
  {
   "cell_type": "code",
   "execution_count": 11,
   "metadata": {},
   "outputs": [
    {
     "data": {
      "text/plain": [
       "<matplotlib.legend.Legend at 0x7f715f79a5f8>"
      ]
     },
     "execution_count": 11,
     "metadata": {},
     "output_type": "execute_result"
    },
    {
     "data": {
      "image/png": "[encoded data removed]",
      "text/plain": [
       "<Figure size 432x288 with 1 Axes>"
      ]
     },
     "metadata": {},
     "output_type": "display_data"
    }
   ],
   "source": [
    "fig, ax = plt.subplots()\n",
    "\n",
    "ax.plot(t_arr, y_arr, '.-', label='implicit')\n",
    "ax.plot(t_arr, np.exp(-15*t_arr), '.-', label='exact')\n",
    "\n",
    "ax.set_xlabel('t')\n",
    "ax.set_ylabel('y(t)')\n",
    "\n",
    "ax.legend()"
   ]
  },
  {
   "cell_type": "code",
   "execution_count": 12,
   "metadata": {},
   "outputs": [],
   "source": [
    "fig.savefig(\"implicit-euler-test.png\")"
   ]
  }
 ],
 "metadata": {
  "kernelspec": {
   "display_name": "Python 3",
   "language": "python",
   "name": "python3"
  },
  "language_info": {
   "codemirror_mode": {
    "name": "ipython",
    "version": 3
   },
   "file_extension": ".py",
   "mimetype": "text/x-python",
   "name": "python",
   "nbconvert_exporter": "python",
   "pygments_lexer": "ipython3",
   "version": "3.6.0"
  }
 },
 "nbformat": 4,
 "nbformat_minor": 2
}
